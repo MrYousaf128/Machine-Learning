{
  "nbformat": 4,
  "nbformat_minor": 0,
  "metadata": {
    "colab": {
      "provenance": [],
      "authorship_tag": "ABX9TyOlTVIN0o+UKNZh6nKFjqyP",
      "include_colab_link": true
    },
    "kernelspec": {
      "name": "python3",
      "display_name": "Python 3"
    },
    "language_info": {
      "name": "python"
    }
  },
  "cells": [
    {
      "cell_type": "markdown",
      "metadata": {
        "id": "view-in-github",
        "colab_type": "text"
      },
      "source": [
        "<a href=\"https://colab.research.google.com/github/MrYousaf128/Machine-Learning/blob/main/Hand_Recognization_in_Real_Time.ipynb\" target=\"_parent\"><img src=\"https://colab.research.google.com/assets/colab-badge.svg\" alt=\"Open In Colab\"/></a>"
      ]
    },
    {
      "cell_type": "code",
      "execution_count": null,
      "metadata": {
        "id": "xV7CZyUqBF30"
      },
      "outputs": [],
      "source": [
        "import cv2\n",
        "import mediapipe as mp\n"
      ]
    },
    {
      "cell_type": "code",
      "source": [
        "# Initialize MediaPipe Hands module\n",
        "mp_hands = mp.solutions.hands\n",
        "hands = mp_hands.Hands()"
      ],
      "metadata": {
        "id": "qQmIq1jRBGxi"
      },
      "execution_count": null,
      "outputs": []
    },
    {
      "cell_type": "code",
      "source": [
        "# Initialize MediaPipe Drawing module for drawing landmarks\n",
        "mp_drawing = mp.solutions.drawing_utils"
      ],
      "metadata": {
        "id": "JtE0WGtLBJyI"
      },
      "execution_count": null,
      "outputs": []
    },
    {
      "cell_type": "code",
      "source": [
        "# Open a video capture object (0 for the default camera)\n",
        "cap = cv2.VideoCapture(0)"
      ],
      "metadata": {
        "id": "h99-PF4IBJoi"
      },
      "execution_count": null,
      "outputs": []
    },
    {
      "cell_type": "code",
      "source": [
        "while cap.isOpened():\n",
        "    ret, frame = cap.read()\n",
        "\n",
        "    if not ret:\n",
        "        continue"
      ],
      "metadata": {
        "id": "T779BTIoBJe8"
      },
      "execution_count": null,
      "outputs": []
    },
    {
      "cell_type": "code",
      "source": [
        "# Convert the frame to RGB format\n",
        "    frame_rgb = cv2.cvtColor(frame, cv2.COLOR_BGR2RGB)\n",
        "\n",
        "    # Process the frame to detect hands\n",
        "    results = hands.process(frame_rgb)"
      ],
      "metadata": {
        "id": "EKfWwi_OBJPi"
      },
      "execution_count": null,
      "outputs": []
    },
    {
      "cell_type": "code",
      "source": [
        "# Check if hands are detected\n",
        "    if results.multi_hand_landmarks:\n",
        "        for hand_landmarks in results.multi_hand_landmarks:\n",
        "            # Draw landmarks on the frame\n",
        "            mp_drawing.draw_landmarks(frame, hand_landmarks, mp_hands.HAND_CONNECTIONS)\n",
        "\n",
        "    # Display the frame with hand landmarks\n",
        "    cv2.imshow('Hand Recognition', frame)"
      ],
      "metadata": {
        "id": "kqjgFVhSBJI5"
      },
      "execution_count": null,
      "outputs": []
    },
    {
      "cell_type": "code",
      "source": [
        " # Exit when 'q' is pressed\n",
        "    if cv2.waitKey(1) & 0xFF == ord('q'):\n",
        "        break\n",
        "\n",
        "# Release the video capture object and close the OpenCV windows\n",
        "cap.release()\n",
        "cv2.destroyAllWindows()"
      ],
      "metadata": {
        "id": "CmqWkkU2BcKe"
      },
      "execution_count": null,
      "outputs": []
    }
  ]
}